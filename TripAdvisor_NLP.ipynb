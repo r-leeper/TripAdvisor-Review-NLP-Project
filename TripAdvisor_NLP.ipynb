{
 "cells": [
  {
   "cell_type": "markdown",
   "source": [
    "# TripAdvisor Review NLP Project"
   ],
   "metadata": {
    "collapsed": false
   },
   "id": "1c1576c8cb349513"
  },
  {
   "cell_type": "code",
   "execution_count": 2,
   "outputs": [],
   "source": [
    "import pandas as pd"
   ],
   "metadata": {
    "collapsed": false,
    "ExecuteTime": {
     "end_time": "2023-11-02T16:07:03.805894961Z",
     "start_time": "2023-11-02T16:07:03.763375058Z"
    }
   },
   "id": "5210d704d0dc1924"
  },
  {
   "cell_type": "code",
   "execution_count": 2,
   "outputs": [],
   "source": [],
   "metadata": {
    "collapsed": false,
    "ExecuteTime": {
     "end_time": "2023-11-02T16:07:03.806201866Z",
     "start_time": "2023-11-02T16:07:03.805702965Z"
    }
   },
   "id": "99f2b154f90b90b2"
  }
 ],
 "metadata": {
  "kernelspec": {
   "display_name": "Python 3",
   "language": "python",
   "name": "python3"
  },
  "language_info": {
   "codemirror_mode": {
    "name": "ipython",
    "version": 2
   },
   "file_extension": ".py",
   "mimetype": "text/x-python",
   "name": "python",
   "nbconvert_exporter": "python",
   "pygments_lexer": "ipython2",
   "version": "2.7.6"
  }
 },
 "nbformat": 4,
 "nbformat_minor": 5
}
