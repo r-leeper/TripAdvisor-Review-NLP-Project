{
 "cells": [
  {
   "cell_type": "markdown",
   "source": [
    "# TripAdvisor Review NLP Project"
   ],
   "metadata": {
    "collapsed": false
   },
   "id": "1c1576c8cb349513"
  },
  {
   "cell_type": "markdown",
   "source": [
    "## Importing packages, data and checking data integrity"
   ],
   "metadata": {
    "collapsed": false
   },
   "id": "427f09fefb666d70"
  },
  {
   "cell_type": "code",
   "execution_count": 1,
   "outputs": [],
   "source": [
    "# Standard Imports\n",
    "import pandas as pd\n",
    "import matplotlib.pyplot as plt\n",
    "import seaborn as sns"
   ],
   "metadata": {
    "collapsed": false,
    "ExecuteTime": {
     "end_time": "2023-11-05T13:01:15.651690723Z",
     "start_time": "2023-11-05T13:01:15.477032467Z"
    }
   },
   "id": "5210d704d0dc1924"
  },
  {
   "cell_type": "code",
   "execution_count": 2,
   "outputs": [],
   "source": [
    "# Ingest Data\n",
    "tripAdvisor_df = pd.read_csv('data/tripadvisor_hotel_reviews.csv')"
   ],
   "metadata": {
    "collapsed": false,
    "ExecuteTime": {
     "end_time": "2023-11-05T13:01:15.907202801Z",
     "start_time": "2023-11-05T13:01:15.489964639Z"
    }
   },
   "id": "99f2b154f90b90b2"
  },
  {
   "cell_type": "code",
   "execution_count": 3,
   "outputs": [
    {
     "data": {
      "text/plain": "                                                  Review  Rating\n0      nice hotel expensive parking got good deal sta...       4\n1      ok nothing special charge diamond member hilto...       2\n2      nice rooms not 4* experience hotel monaco seat...       3\n3      unique, great stay, wonderful time hotel monac...       5\n4      great stay great stay, went seahawk game aweso...       5\n...                                                  ...     ...\n20486  best kept secret 3rd time staying charm, not 5...       5\n20487  great location price view hotel great quick pl...       4\n20488  ok just looks nice modern outside, desk staff ...       2\n20489  hotel theft ruined vacation hotel opened sept ...       1\n20490  people talking, ca n't believe excellent ratin...       2\n\n[20491 rows x 2 columns]",
      "text/html": "<div>\n<style scoped>\n    .dataframe tbody tr th:only-of-type {\n        vertical-align: middle;\n    }\n\n    .dataframe tbody tr th {\n        vertical-align: top;\n    }\n\n    .dataframe thead th {\n        text-align: right;\n    }\n</style>\n<table border=\"1\" class=\"dataframe\">\n  <thead>\n    <tr style=\"text-align: right;\">\n      <th></th>\n      <th>Review</th>\n      <th>Rating</th>\n    </tr>\n  </thead>\n  <tbody>\n    <tr>\n      <th>0</th>\n      <td>nice hotel expensive parking got good deal sta...</td>\n      <td>4</td>\n    </tr>\n    <tr>\n      <th>1</th>\n      <td>ok nothing special charge diamond member hilto...</td>\n      <td>2</td>\n    </tr>\n    <tr>\n      <th>2</th>\n      <td>nice rooms not 4* experience hotel monaco seat...</td>\n      <td>3</td>\n    </tr>\n    <tr>\n      <th>3</th>\n      <td>unique, great stay, wonderful time hotel monac...</td>\n      <td>5</td>\n    </tr>\n    <tr>\n      <th>4</th>\n      <td>great stay great stay, went seahawk game aweso...</td>\n      <td>5</td>\n    </tr>\n    <tr>\n      <th>...</th>\n      <td>...</td>\n      <td>...</td>\n    </tr>\n    <tr>\n      <th>20486</th>\n      <td>best kept secret 3rd time staying charm, not 5...</td>\n      <td>5</td>\n    </tr>\n    <tr>\n      <th>20487</th>\n      <td>great location price view hotel great quick pl...</td>\n      <td>4</td>\n    </tr>\n    <tr>\n      <th>20488</th>\n      <td>ok just looks nice modern outside, desk staff ...</td>\n      <td>2</td>\n    </tr>\n    <tr>\n      <th>20489</th>\n      <td>hotel theft ruined vacation hotel opened sept ...</td>\n      <td>1</td>\n    </tr>\n    <tr>\n      <th>20490</th>\n      <td>people talking, ca n't believe excellent ratin...</td>\n      <td>2</td>\n    </tr>\n  </tbody>\n</table>\n<p>20491 rows × 2 columns</p>\n</div>"
     },
     "execution_count": 3,
     "metadata": {},
     "output_type": "execute_result"
    }
   ],
   "source": [
    "# View data\n",
    "tripAdvisor_df"
   ],
   "metadata": {
    "collapsed": false,
    "ExecuteTime": {
     "end_time": "2023-11-05T13:01:15.926239123Z",
     "start_time": "2023-11-05T13:01:15.633221786Z"
    }
   },
   "id": "bfc8e1e9b95ef743"
  },
  {
   "cell_type": "code",
   "execution_count": 4,
   "outputs": [
    {
     "data": {
      "text/plain": "             Rating\ncount  20491.000000\nmean       3.952223\nstd        1.233030\nmin        1.000000\n25%        3.000000\n50%        4.000000\n75%        5.000000\nmax        5.000000",
      "text/html": "<div>\n<style scoped>\n    .dataframe tbody tr th:only-of-type {\n        vertical-align: middle;\n    }\n\n    .dataframe tbody tr th {\n        vertical-align: top;\n    }\n\n    .dataframe thead th {\n        text-align: right;\n    }\n</style>\n<table border=\"1\" class=\"dataframe\">\n  <thead>\n    <tr style=\"text-align: right;\">\n      <th></th>\n      <th>Rating</th>\n    </tr>\n  </thead>\n  <tbody>\n    <tr>\n      <th>count</th>\n      <td>20491.000000</td>\n    </tr>\n    <tr>\n      <th>mean</th>\n      <td>3.952223</td>\n    </tr>\n    <tr>\n      <th>std</th>\n      <td>1.233030</td>\n    </tr>\n    <tr>\n      <th>min</th>\n      <td>1.000000</td>\n    </tr>\n    <tr>\n      <th>25%</th>\n      <td>3.000000</td>\n    </tr>\n    <tr>\n      <th>50%</th>\n      <td>4.000000</td>\n    </tr>\n    <tr>\n      <th>75%</th>\n      <td>5.000000</td>\n    </tr>\n    <tr>\n      <th>max</th>\n      <td>5.000000</td>\n    </tr>\n  </tbody>\n</table>\n</div>"
     },
     "execution_count": 4,
     "metadata": {},
     "output_type": "execute_result"
    }
   ],
   "source": [
    "# Look at rating stats\n",
    "tripAdvisor_df.describe()"
   ],
   "metadata": {
    "collapsed": false,
    "ExecuteTime": {
     "end_time": "2023-11-05T13:01:15.926700940Z",
     "start_time": "2023-11-05T13:01:15.633434626Z"
    }
   },
   "id": "ca58df8f8d1ae1fe"
  },
  {
   "cell_type": "code",
   "execution_count": 5,
   "outputs": [
    {
     "name": "stdout",
     "output_type": "stream",
     "text": [
      "Review    0\n",
      "Rating    0\n",
      "dtype: int64\n"
     ]
    }
   ],
   "source": [
    "# Check for nulls\n",
    "nulls_count = tripAdvisor_df.isnull().sum()\n",
    "print(nulls_count)"
   ],
   "metadata": {
    "collapsed": false,
    "ExecuteTime": {
     "end_time": "2023-11-05T13:01:15.926925663Z",
     "start_time": "2023-11-05T13:01:15.633514792Z"
    }
   },
   "id": "2560e624754cdd3"
  },
  {
   "cell_type": "code",
   "execution_count": 6,
   "outputs": [
    {
     "data": {
      "text/plain": "<Figure size 640x480 with 1 Axes>",
      "image/png": "[encoded data removed]"
     },
     "metadata": {},
     "output_type": "display_data"
    }
   ],
   "source": [
    "# Look at distribution\n",
    "tripAdvisor_df['Rating'].hist()\n",
    "plt.show()"
   ],
   "metadata": {
    "collapsed": false,
    "ExecuteTime": {
     "end_time": "2023-11-05T13:01:15.928816333Z",
     "start_time": "2023-11-05T13:01:15.633695134Z"
    }
   },
   "id": "4efe50796840d9a2"
  },
  {
   "cell_type": "code",
   "execution_count": 7,
   "outputs": [
    {
     "name": "stdout",
     "output_type": "stream",
     "text": [
      "[4 2 3 5 1]\n"
     ]
    }
   ],
   "source": [
    "# Check all values are correct\n",
    "print(tripAdvisor_df['Rating'].unique())"
   ],
   "metadata": {
    "collapsed": false,
    "ExecuteTime": {
     "end_time": "2023-11-05T13:01:15.929057067Z",
     "start_time": "2023-11-05T13:01:15.798068369Z"
    }
   },
   "id": "5f11f77471ffe219"
  },
  {
   "cell_type": "code",
   "execution_count": 8,
   "outputs": [
    {
     "data": {
      "text/plain": "Review    object\nRating     int64\ndtype: object"
     },
     "execution_count": 8,
     "metadata": {},
     "output_type": "execute_result"
    }
   ],
   "source": [
    "# Check data types\n",
    "tripAdvisor_df.dtypes"
   ],
   "metadata": {
    "collapsed": false,
    "ExecuteTime": {
     "end_time": "2023-11-05T13:01:15.929287813Z",
     "start_time": "2023-11-05T13:01:15.841229985Z"
    }
   },
   "id": "3f7159edfcea1eb"
  },
  {
   "cell_type": "markdown",
   "source": [
    "The data is imported and is shaped expected."
   ],
   "metadata": {
    "collapsed": false
   },
   "id": "b5951f0cc5867c37"
  },
  {
   "cell_type": "markdown",
   "source": [
    "## EDA"
   ],
   "metadata": {
    "collapsed": false
   },
   "id": "ab7f2f361d40a307"
  },
  {
   "cell_type": "markdown",
   "source": [
    "I've always been curious if the length of a review correlates in any way at all with how good or bad the review is."
   ],
   "metadata": {
    "collapsed": false
   },
   "id": "7baac5163c6aac1f"
  },
  {
   "cell_type": "code",
   "execution_count": 9,
   "outputs": [
    {
     "data": {
      "text/plain": "                                                  Review  Rating  \\\n0      nice hotel expensive parking got good deal sta...       4   \n1      ok nothing special charge diamond member hilto...       2   \n2      nice rooms not 4* experience hotel monaco seat...       3   \n3      unique, great stay, wonderful time hotel monac...       5   \n4      great stay great stay, went seahawk game aweso...       5   \n...                                                  ...     ...   \n20486  best kept secret 3rd time staying charm, not 5...       5   \n20487  great location price view hotel great quick pl...       4   \n20488  ok just looks nice modern outside, desk staff ...       2   \n20489  hotel theft ruined vacation hotel opened sept ...       1   \n20490  people talking, ca n't believe excellent ratin...       2   \n\n       review_length  \n0                593  \n1               1689  \n2               1427  \n3                600  \n4               1281  \n...              ...  \n20486            733  \n20487            306  \n20488            443  \n20489           5557  \n20490            620  \n\n[20491 rows x 3 columns]",
      "text/html": "<div>\n<style scoped>\n    .dataframe tbody tr th:only-of-type {\n        vertical-align: middle;\n    }\n\n    .dataframe tbody tr th {\n        vertical-align: top;\n    }\n\n    .dataframe thead th {\n        text-align: right;\n    }\n</style>\n<table border=\"1\" class=\"dataframe\">\n  <thead>\n    <tr style=\"text-align: right;\">\n      <th></th>\n      <th>Review</th>\n      <th>Rating</th>\n      <th>review_length</th>\n    </tr>\n  </thead>\n  <tbody>\n    <tr>\n      <th>0</th>\n      <td>nice hotel expensive parking got good deal sta...</td>\n      <td>4</td>\n      <td>593</td>\n    </tr>\n    <tr>\n      <th>1</th>\n      <td>ok nothing special charge diamond member hilto...</td>\n      <td>2</td>\n      <td>1689</td>\n    </tr>\n    <tr>\n      <th>2</th>\n      <td>nice rooms not 4* experience hotel monaco seat...</td>\n      <td>3</td>\n      <td>1427</td>\n    </tr>\n    <tr>\n      <th>3</th>\n      <td>unique, great stay, wonderful time hotel monac...</td>\n      <td>5</td>\n      <td>600</td>\n    </tr>\n    <tr>\n      <th>4</th>\n      <td>great stay great stay, went seahawk game aweso...</td>\n      <td>5</td>\n      <td>1281</td>\n    </tr>\n    <tr>\n      <th>...</th>\n      <td>...</td>\n      <td>...</td>\n      <td>...</td>\n    </tr>\n    <tr>\n      <th>20486</th>\n      <td>best kept secret 3rd time staying charm, not 5...</td>\n      <td>5</td>\n      <td>733</td>\n    </tr>\n    <tr>\n      <th>20487</th>\n      <td>great location price view hotel great quick pl...</td>\n      <td>4</td>\n      <td>306</td>\n    </tr>\n    <tr>\n      <th>20488</th>\n      <td>ok just looks nice modern outside, desk staff ...</td>\n      <td>2</td>\n      <td>443</td>\n    </tr>\n    <tr>\n      <th>20489</th>\n      <td>hotel theft ruined vacation hotel opened sept ...</td>\n      <td>1</td>\n      <td>5557</td>\n    </tr>\n    <tr>\n      <th>20490</th>\n      <td>people talking, ca n't believe excellent ratin...</td>\n      <td>2</td>\n      <td>620</td>\n    </tr>\n  </tbody>\n</table>\n<p>20491 rows × 3 columns</p>\n</div>"
     },
     "execution_count": 9,
     "metadata": {},
     "output_type": "execute_result"
    }
   ],
   "source": [
    "# Create data copy for exploration\n",
    "eda_df = tripAdvisor_df.copy()\n",
    "\n",
    "# Create new column based off the length of the review\n",
    "eda_df['review_length'] = eda_df['Review'].str.len()\n",
    "\n",
    "eda_df"
   ],
   "metadata": {
    "collapsed": false,
    "ExecuteTime": {
     "end_time": "2023-11-05T13:01:15.929760258Z",
     "start_time": "2023-11-05T13:01:15.841335573Z"
    }
   },
   "id": "e0caa8b65381ca8"
  },
  {
   "cell_type": "code",
   "execution_count": 10,
   "outputs": [
    {
     "data": {
      "text/plain": "<Figure size 640x480 with 1 Axes>",
      "image/png": "[encoded data removed]"
     },
     "metadata": {},
     "output_type": "display_data"
    }
   ],
   "source": [
    "# Create scatter plot to see the shape of the data\n",
    "plt.scatter(eda_df['Rating'], eda_df['review_length'])\n",
    "plt.show()"
   ],
   "metadata": {
    "collapsed": false,
    "ExecuteTime": {
     "end_time": "2023-11-05T13:01:16.088289626Z",
     "start_time": "2023-11-05T13:01:15.841412301Z"
    }
   },
   "id": "776d71b9e82f6ab2"
  },
  {
   "cell_type": "markdown",
   "source": [
    "Scatter plot isn't the best for displaying this. A violin plot would be better."
   ],
   "metadata": {
    "collapsed": false
   },
   "id": "f2a88182c4e9ad4a"
  },
  {
   "cell_type": "code",
   "execution_count": 11,
   "outputs": [
    {
     "data": {
      "text/plain": "<Figure size 640x480 with 1 Axes>",
      "image/png": "[encoded data removed]"
     },
     "metadata": {},
     "output_type": "display_data"
    }
   ],
   "source": [
    "# Seaborn violin plot\n",
    "sns.violinplot(x=\"Rating\", y=\"review_length\", data=eda_df)\n",
    "\n",
    "plt.show()"
   ],
   "metadata": {
    "collapsed": false,
    "ExecuteTime": {
     "end_time": "2023-11-05T13:01:16.267074736Z",
     "start_time": "2023-11-05T13:01:16.009124457Z"
    }
   },
   "id": "738e5aa0ce8254d3"
  },
  {
   "cell_type": "markdown",
   "source": [
    "That shows us there might be a coloration, but it also might just be a coincidence that some people get really passionate about certain things. Perhaps averages?"
   ],
   "metadata": {
    "collapsed": false
   },
   "id": "3d0bf5a834542706"
  },
  {
   "cell_type": "code",
   "execution_count": 12,
   "outputs": [
    {
     "name": "stdout",
     "output_type": "stream",
     "text": [
      "Rating\n",
      "1    769.534835\n",
      "2    867.002789\n",
      "3    784.664835\n",
      "4    745.339957\n",
      "5    661.696488\n",
      "Name: review_length, dtype: float64\n"
     ]
    }
   ],
   "source": [
    "# Mean lengths by rating\n",
    "mean_lengths = eda_df.groupby('Rating')['review_length'].mean()\n",
    "\n",
    "print(mean_lengths)"
   ],
   "metadata": {
    "collapsed": false,
    "ExecuteTime": {
     "end_time": "2023-11-05T13:01:16.268204990Z",
     "start_time": "2023-11-05T13:01:16.185949306Z"
    }
   },
   "id": "56e6599f1a852771"
  },
  {
   "cell_type": "markdown",
   "source": [
    "It seems like there's a spike in review length of ratings at locations that have a rating of 2 that tapers off the higher the rating goes. This makes sense as people are much more negatively inclined to so will want to vent over a negative review."
   ],
   "metadata": {
    "collapsed": false
   },
   "id": "ba618360420c07be"
  },
  {
   "cell_type": "markdown",
   "source": [
    "## Data Pre-processing"
   ],
   "metadata": {
    "collapsed": false
   },
   "id": "9e2d53f08d3ac12c"
  },
  {
   "cell_type": "code",
   "execution_count": 13,
   "outputs": [],
   "source": [
    "# Text processing imports\n",
    "import re\n",
    "from nltk.tokenize import word_tokenize\n",
    "from nltk.corpus import stopwords\n",
    "from nltk.stem import WordNetLemmatizer\n",
    "\n",
    "# Feature extractions\n",
    "from sklearn.feature_extraction.text import CountVectorizer\n",
    "from sklearn.feature_extraction.text import TfidfVectorizer\n",
    "from sklearn.feature_extraction.text import TfidfTransformer"
   ],
   "metadata": {
    "collapsed": false,
    "ExecuteTime": {
     "end_time": "2023-11-05T13:01:16.359352195Z",
     "start_time": "2023-11-05T13:01:16.229149731Z"
    }
   },
   "id": "f32c7776ac577b0a"
  },
  {
   "cell_type": "code",
   "execution_count": 14,
   "outputs": [],
   "source": [
    "# Clean the text of random tags, convert to lowercase and remove special characters.\n",
    "\n",
    "def clean_text(text):\n",
    "    # Remove HTML tags\n",
    "    text = re.sub(r'<.*?>', '', text)\n",
    "    # Convert to lowercase\n",
    "    text = text.lower()\n",
    "    # Remove special characters\n",
    "    text = re.sub(r'[^a-zA-Z0-9\\s]', '', text)\n",
    "    return text\n",
    "\n",
    "tripAdvisor_df['cleaned_reviews'] = tripAdvisor_df['Review'].apply(clean_text)"
   ],
   "metadata": {
    "collapsed": false,
    "ExecuteTime": {
     "end_time": "2023-11-05T13:01:16.560731462Z",
     "start_time": "2023-11-05T13:01:16.352209861Z"
    }
   },
   "id": "921e7b6da5638e30"
  },
  {
   "cell_type": "code",
   "execution_count": 15,
   "outputs": [],
   "source": [
    "# Tokenize reviews\n",
    "tripAdvisor_df['tokenized_reviews'] = tripAdvisor_df['cleaned_reviews'].apply(word_tokenize)"
   ],
   "metadata": {
    "collapsed": false,
    "ExecuteTime": {
     "end_time": "2023-11-05T13:01:22.274778340Z",
     "start_time": "2023-11-05T13:01:16.566034148Z"
    }
   },
   "id": "1b32e36e3853e69e"
  },
  {
   "cell_type": "code",
   "execution_count": 16,
   "outputs": [],
   "source": [
    "# Set stop words to english\n",
    "stop_words = set(stopwords.words('english'))\n",
    "\n",
    "# Function with list comprehension to remove stop words\n",
    "def remove_stopwords(tokens):\n",
    "    return [word for word in tokens if word not in stop_words]\n",
    "\n",
    "tripAdvisor_df['filtered_reviews'] = tripAdvisor_df['tokenized_reviews'].apply(remove_stopwords)"
   ],
   "metadata": {
    "collapsed": false,
    "ExecuteTime": {
     "end_time": "2023-11-05T13:01:22.453010076Z",
     "start_time": "2023-11-05T13:01:22.277581558Z"
    }
   },
   "id": "878e321389fa7302"
  },
  {
   "cell_type": "code",
   "execution_count": 17,
   "outputs": [],
   "source": [
    "# Set up lemmatizer\n",
    "lemmatizer = WordNetLemmatizer()\n",
    "\n",
    "# Function with list comprehension to apply lemmatizer\n",
    "def lemmatize_tokens(tokens):\n",
    "    return [lemmatizer.lemmatize(word) for word in tokens]\n",
    "\n",
    "tripAdvisor_df['lemmatized_reviews'] = tripAdvisor_df['filtered_reviews'].apply(lemmatize_tokens)"
   ],
   "metadata": {
    "collapsed": false,
    "ExecuteTime": {
     "end_time": "2023-11-05T13:01:28.054715952Z",
     "start_time": "2023-11-05T13:01:22.455164661Z"
    }
   },
   "id": "e7a0d4fbf175a16f"
  },
  {
   "cell_type": "code",
   "execution_count": 18,
   "outputs": [
    {
     "data": {
      "text/plain": "                                                  Review  Rating  \\\n0      nice hotel expensive parking got good deal sta...       4   \n1      ok nothing special charge diamond member hilto...       2   \n2      nice rooms not 4* experience hotel monaco seat...       3   \n3      unique, great stay, wonderful time hotel monac...       5   \n4      great stay great stay, went seahawk game aweso...       5   \n...                                                  ...     ...   \n20486  best kept secret 3rd time staying charm, not 5...       5   \n20487  great location price view hotel great quick pl...       4   \n20488  ok just looks nice modern outside, desk staff ...       2   \n20489  hotel theft ruined vacation hotel opened sept ...       1   \n20490  people talking, ca n't believe excellent ratin...       2   \n\n                                         cleaned_reviews  \\\n0      nice hotel expensive parking got good deal sta...   \n1      ok nothing special charge diamond member hilto...   \n2      nice rooms not 4 experience hotel monaco seatt...   \n3      unique great stay wonderful time hotel monaco ...   \n4      great stay great stay went seahawk game awesom...   \n...                                                  ...   \n20486  best kept secret 3rd time staying charm not 5s...   \n20487  great location price view hotel great quick pl...   \n20488  ok just looks nice modern outside desk staff n...   \n20489  hotel theft ruined vacation hotel opened sept ...   \n20490  people talking ca nt believe excellent ratings...   \n\n                                       tokenized_reviews  \\\n0      [nice, hotel, expensive, parking, got, good, d...   \n1      [ok, nothing, special, charge, diamond, member...   \n2      [nice, rooms, not, 4, experience, hotel, monac...   \n3      [unique, great, stay, wonderful, time, hotel, ...   \n4      [great, stay, great, stay, went, seahawk, game...   \n...                                                  ...   \n20486  [best, kept, secret, 3rd, time, staying, charm...   \n20487  [great, location, price, view, hotel, great, q...   \n20488  [ok, just, looks, nice, modern, outside, desk,...   \n20489  [hotel, theft, ruined, vacation, hotel, opened...   \n20490  [people, talking, ca, nt, believe, excellent, ...   \n\n                                        filtered_reviews  \\\n0      [nice, hotel, expensive, parking, got, good, d...   \n1      [ok, nothing, special, charge, diamond, member...   \n2      [nice, rooms, 4, experience, hotel, monaco, se...   \n3      [unique, great, stay, wonderful, time, hotel, ...   \n4      [great, stay, great, stay, went, seahawk, game...   \n...                                                  ...   \n20486  [best, kept, secret, 3rd, time, staying, charm...   \n20487  [great, location, price, view, hotel, great, q...   \n20488  [ok, looks, nice, modern, outside, desk, staff...   \n20489  [hotel, theft, ruined, vacation, hotel, opened...   \n20490  [people, talking, ca, nt, believe, excellent, ...   \n\n                                      lemmatized_reviews  \n0      [nice, hotel, expensive, parking, got, good, d...  \n1      [ok, nothing, special, charge, diamond, member...  \n2      [nice, room, 4, experience, hotel, monaco, sea...  \n3      [unique, great, stay, wonderful, time, hotel, ...  \n4      [great, stay, great, stay, went, seahawk, game...  \n...                                                  ...  \n20486  [best, kept, secret, 3rd, time, staying, charm...  \n20487  [great, location, price, view, hotel, great, q...  \n20488  [ok, look, nice, modern, outside, desk, staff,...  \n20489  [hotel, theft, ruined, vacation, hotel, opened...  \n20490  [people, talking, ca, nt, believe, excellent, ...  \n\n[20491 rows x 6 columns]",
      "text/html": "<div>\n<style scoped>\n    .dataframe tbody tr th:only-of-type {\n        vertical-align: middle;\n    }\n\n    .dataframe tbody tr th {\n        vertical-align: top;\n    }\n\n    .dataframe thead th {\n        text-align: right;\n    }\n</style>\n<table border=\"1\" class=\"dataframe\">\n  <thead>\n    <tr style=\"text-align: right;\">\n      <th></th>\n      <th>Review</th>\n      <th>Rating</th>\n      <th>cleaned_reviews</th>\n      <th>tokenized_reviews</th>\n      <th>filtered_reviews</th>\n      <th>lemmatized_reviews</th>\n    </tr>\n  </thead>\n  <tbody>\n    <tr>\n      <th>0</th>\n      <td>nice hotel expensive parking got good deal sta...</td>\n      <td>4</td>\n      <td>nice hotel expensive parking got good deal sta...</td>\n      <td>[nice, hotel, expensive, parking, got, good, d...</td>\n      <td>[nice, hotel, expensive, parking, got, good, d...</td>\n      <td>[nice, hotel, expensive, parking, got, good, d...</td>\n    </tr>\n    <tr>\n      <th>1</th>\n      <td>ok nothing special charge diamond member hilto...</td>\n      <td>2</td>\n      <td>ok nothing special charge diamond member hilto...</td>\n      <td>[ok, nothing, special, charge, diamond, member...</td>\n      <td>[ok, nothing, special, charge, diamond, member...</td>\n      <td>[ok, nothing, special, charge, diamond, member...</td>\n    </tr>\n    <tr>\n      <th>2</th>\n      <td>nice rooms not 4* experience hotel monaco seat...</td>\n      <td>3</td>\n      <td>nice rooms not 4 experience hotel monaco seatt...</td>\n      <td>[nice, rooms, not, 4, experience, hotel, monac...</td>\n      <td>[nice, rooms, 4, experience, hotel, monaco, se...</td>\n      <td>[nice, room, 4, experience, hotel, monaco, sea...</td>\n    </tr>\n    <tr>\n      <th>3</th>\n      <td>unique, great stay, wonderful time hotel monac...</td>\n      <td>5</td>\n      <td>unique great stay wonderful time hotel monaco ...</td>\n      <td>[unique, great, stay, wonderful, time, hotel, ...</td>\n      <td>[unique, great, stay, wonderful, time, hotel, ...</td>\n      <td>[unique, great, stay, wonderful, time, hotel, ...</td>\n    </tr>\n    <tr>\n      <th>4</th>\n      <td>great stay great stay, went seahawk game aweso...</td>\n      <td>5</td>\n      <td>great stay great stay went seahawk game awesom...</td>\n      <td>[great, stay, great, stay, went, seahawk, game...</td>\n      <td>[great, stay, great, stay, went, seahawk, game...</td>\n      <td>[great, stay, great, stay, went, seahawk, game...</td>\n    </tr>\n    <tr>\n      <th>...</th>\n      <td>...</td>\n      <td>...</td>\n      <td>...</td>\n      <td>...</td>\n      <td>...</td>\n      <td>...</td>\n    </tr>\n    <tr>\n      <th>20486</th>\n      <td>best kept secret 3rd time staying charm, not 5...</td>\n      <td>5</td>\n      <td>best kept secret 3rd time staying charm not 5s...</td>\n      <td>[best, kept, secret, 3rd, time, staying, charm...</td>\n      <td>[best, kept, secret, 3rd, time, staying, charm...</td>\n      <td>[best, kept, secret, 3rd, time, staying, charm...</td>\n    </tr>\n    <tr>\n      <th>20487</th>\n      <td>great location price view hotel great quick pl...</td>\n      <td>4</td>\n      <td>great location price view hotel great quick pl...</td>\n      <td>[great, location, price, view, hotel, great, q...</td>\n      <td>[great, location, price, view, hotel, great, q...</td>\n      <td>[great, location, price, view, hotel, great, q...</td>\n    </tr>\n    <tr>\n      <th>20488</th>\n      <td>ok just looks nice modern outside, desk staff ...</td>\n      <td>2</td>\n      <td>ok just looks nice modern outside desk staff n...</td>\n      <td>[ok, just, looks, nice, modern, outside, desk,...</td>\n      <td>[ok, looks, nice, modern, outside, desk, staff...</td>\n      <td>[ok, look, nice, modern, outside, desk, staff,...</td>\n    </tr>\n    <tr>\n      <th>20489</th>\n      <td>hotel theft ruined vacation hotel opened sept ...</td>\n      <td>1</td>\n      <td>hotel theft ruined vacation hotel opened sept ...</td>\n      <td>[hotel, theft, ruined, vacation, hotel, opened...</td>\n      <td>[hotel, theft, ruined, vacation, hotel, opened...</td>\n      <td>[hotel, theft, ruined, vacation, hotel, opened...</td>\n    </tr>\n    <tr>\n      <th>20490</th>\n      <td>people talking, ca n't believe excellent ratin...</td>\n      <td>2</td>\n      <td>people talking ca nt believe excellent ratings...</td>\n      <td>[people, talking, ca, nt, believe, excellent, ...</td>\n      <td>[people, talking, ca, nt, believe, excellent, ...</td>\n      <td>[people, talking, ca, nt, believe, excellent, ...</td>\n    </tr>\n  </tbody>\n</table>\n<p>20491 rows × 6 columns</p>\n</div>"
     },
     "execution_count": 18,
     "metadata": {},
     "output_type": "execute_result"
    }
   ],
   "source": [
    "tripAdvisor_df"
   ],
   "metadata": {
    "collapsed": false,
    "ExecuteTime": {
     "end_time": "2023-11-05T13:01:28.074163519Z",
     "start_time": "2023-11-05T13:01:28.061041637Z"
    }
   },
   "id": "f0a8b55fbd916d2d"
  },
  {
   "cell_type": "markdown",
   "source": [
    "Initially pre-processing done, we can move into creating n-grams and vectorizing."
   ],
   "metadata": {
    "collapsed": false
   },
   "id": "270f67a4604c665f"
  },
  {
   "cell_type": "code",
   "execution_count": 19,
   "outputs": [],
   "source": [
    "# Create a CountVectorizer with bigrams and trigrams\n",
    "ngram_vectorizer = CountVectorizer(ngram_range=(2, 3))\n",
    "\n",
    "# Fit and transform n_grams\n",
    "X_ngrams = ngram_vectorizer.fit_transform(tripAdvisor_df['lemmatized_reviews'].apply(lambda x: ' '.join(x)))\n",
    "\n",
    "# Use tf-idf to create weighted n-grams\n",
    "tfidf_transformer = TfidfTransformer()\n",
    "X_ngrams_tfidf = tfidf_transformer.fit_transform(X_ngrams)"
   ],
   "metadata": {
    "collapsed": false,
    "ExecuteTime": {
     "end_time": "2023-11-05T13:01:38.727116009Z",
     "start_time": "2023-11-05T13:01:28.086088185Z"
    }
   },
   "id": "a12d13c3fed944bc"
  },
  {
   "cell_type": "code",
   "execution_count": 20,
   "outputs": [],
   "source": [
    "# Create a vectorizer for the reviews \n",
    "tfidf_vectorizer = TfidfVectorizer()\n",
    "X_tfidf = tfidf_vectorizer.fit_transform(tripAdvisor_df['lemmatized_reviews'].apply(lambda x: ' '.join(x)))"
   ],
   "metadata": {
    "collapsed": false,
    "ExecuteTime": {
     "end_time": "2023-11-05T13:01:40.024048066Z",
     "start_time": "2023-11-05T13:01:38.728329700Z"
    }
   },
   "id": "85c492842d8a46ea"
  },
  {
   "cell_type": "code",
   "execution_count": 21,
   "outputs": [],
   "source": [
    "# Combine both the weighted n-grams and the tf-idf reviews themselves\n",
    "# Combine X_ngrams_tfidf and X_tfidf horizontally\n",
    "from scipy.sparse import hstack\n",
    "X_combined = hstack([X_ngrams_tfidf, X_tfidf])"
   ],
   "metadata": {
    "collapsed": false,
    "ExecuteTime": {
     "end_time": "2023-11-05T13:01:40.063007329Z",
     "start_time": "2023-11-05T13:01:40.025465732Z"
    }
   },
   "id": "9ef08a2f299f6db7"
  },
  {
   "cell_type": "markdown",
   "source": [
    "Check that features and targets are equal before we start to try and learn."
   ],
   "metadata": {
    "collapsed": false
   },
   "id": "8d5bfea25d165da8"
  },
  {
   "cell_type": "code",
   "execution_count": 22,
   "outputs": [
    {
     "name": "stdout",
     "output_type": "stream",
     "text": [
      "20491\n"
     ]
    }
   ],
   "source": [
    "print(X_combined.shape[0])"
   ],
   "metadata": {
    "collapsed": false,
    "ExecuteTime": {
     "end_time": "2023-11-05T13:01:40.074608688Z",
     "start_time": "2023-11-05T13:01:40.063441175Z"
    }
   },
   "id": "7d09d10a741408dd"
  },
  {
   "cell_type": "code",
   "execution_count": 23,
   "outputs": [
    {
     "data": {
      "text/plain": "20491"
     },
     "execution_count": 23,
     "metadata": {},
     "output_type": "execute_result"
    }
   ],
   "source": [
    "y = tripAdvisor_df['Rating']\n",
    "len(y)"
   ],
   "metadata": {
    "collapsed": false,
    "ExecuteTime": {
     "end_time": "2023-11-05T13:01:40.074889480Z",
     "start_time": "2023-11-05T13:01:40.068861110Z"
    }
   },
   "id": "9adb68cf56cf9f90"
  },
  {
   "cell_type": "markdown",
   "source": [
    "## Classification Algorithm"
   ],
   "metadata": {
    "collapsed": false
   },
   "id": "b13d29dc9dddeef7"
  },
  {
   "cell_type": "markdown",
   "source": [
    "There are a number of options that could be used for this classification problem. For this project, I'll pick 3. SVMs, logistic regression and Random Forests. We'll also use randomized search to find the best parameters for each."
   ],
   "metadata": {
    "collapsed": false
   },
   "id": "21142537f76d853f"
  },
  {
   "cell_type": "code",
   "execution_count": 24,
   "outputs": [],
   "source": [
    "# Machine Learning Imports\n",
    "from sklearn.model_selection import RandomizedSearchCV\n",
    "from sklearn.svm import LinearSVC\n",
    "from sklearn.linear_model import LogisticRegression\n",
    "from sklearn.ensemble import RandomForestClassifier"
   ],
   "metadata": {
    "collapsed": false,
    "ExecuteTime": {
     "end_time": "2023-11-05T13:01:40.134522949Z",
     "start_time": "2023-11-05T13:01:40.072496816Z"
    }
   },
   "id": "73ad0a484838feca"
  },
  {
   "cell_type": "markdown",
   "source": [
    "### SVM Classifier"
   ],
   "metadata": {
    "collapsed": false
   },
   "id": "359610f3b1203b24"
  },
  {
   "cell_type": "code",
   "execution_count": 25,
   "outputs": [],
   "source": [
    "# Create an SVM classifier\n",
    "svm_classifier = LinearSVC()\n",
    "\n",
    "# Define a grid of hyperparameters to search\n",
    "param_grid = {\n",
    "    'C': [0.1, 1.0, 10.0],  # Regularization parameter\n",
    "    'class_weight': [None, 'balanced'],  # Class weighting\n",
    "    'penalty': ['l1', 'l2'],  # Regularization penalty\n",
    "    'loss': ['hinge', 'squared_hinge'],  # Loss function\n",
    "    'dual': [True, False],  # Dual or primal formulation\n",
    "    'multi_class': ['ovr', 'crammer_singer'],  # Multiclass strategy\n",
    "}"
   ],
   "metadata": {
    "collapsed": false,
    "ExecuteTime": {
     "end_time": "2023-11-05T13:01:40.144282719Z",
     "start_time": "2023-11-05T13:01:40.117129402Z"
    }
   },
   "id": "6ef5a31b89bd108a"
  },
  {
   "cell_type": "code",
   "execution_count": 26,
   "outputs": [
    {
     "name": "stdout",
     "output_type": "stream",
     "text": [
      "Fitting 5 folds for each of 10 candidates, totalling 50 fits\n"
     ]
    },
    {
     "name": "stderr",
     "output_type": "stream",
     "text": [
      "/home/ross/anaconda3/lib/python3.9/site-packages/sklearn/svm/_base.py:1206: ConvergenceWarning: Liblinear failed to converge, increase the number of iterations.\n",
      "  warnings.warn(\n"
     ]
    },
    {
     "name": "stdout",
     "output_type": "stream",
     "text": [
      "[CV] END C=10.0, class_weight=balanced, dual=False, loss=squared_hinge, multi_class=crammer_singer, penalty=l1; total time=  19.0s\n",
      "[CV] END C=10.0, class_weight=balanced, dual=False, loss=squared_hinge, multi_class=crammer_singer, penalty=l1; total time=  23.5s\n",
      "[CV] END C=10.0, class_weight=balanced, dual=False, loss=squared_hinge, multi_class=crammer_singer, penalty=l1; total time=  20.5s\n",
      "[CV] END C=10.0, class_weight=balanced, dual=False, loss=squared_hinge, multi_class=crammer_singer, penalty=l1; total time=   3.6s\n",
      "[CV] END C=10.0, class_weight=balanced, dual=False, loss=squared_hinge, multi_class=crammer_singer, penalty=l1; total time=   3.5s\n",
      "[CV] END C=1.0, class_weight=None, dual=True, loss=hinge, multi_class=ovr, penalty=l2; total time=   7.4s\n",
      "[CV] END C=1.0, class_weight=None, dual=True, loss=hinge, multi_class=ovr, penalty=l2; total time=   6.1s\n",
      "[CV] END C=1.0, class_weight=None, dual=True, loss=hinge, multi_class=ovr, penalty=l2; total time=   8.9s\n",
      "[CV] END C=1.0, class_weight=None, dual=True, loss=hinge, multi_class=ovr, penalty=l2; total time=   3.0s\n",
      "[CV] END C=1.0, class_weight=None, dual=True, loss=hinge, multi_class=ovr, penalty=l2; total time=   2.8s\n",
      "[CV] END C=1.0, class_weight=None, dual=False, loss=hinge, multi_class=crammer_singer, penalty=l1; total time=  22.1s\n",
      "[CV] END C=1.0, class_weight=None, dual=False, loss=hinge, multi_class=crammer_singer, penalty=l1; total time=  20.3s\n",
      "[CV] END C=1.0, class_weight=None, dual=False, loss=hinge, multi_class=crammer_singer, penalty=l1; total time=  22.9s\n",
      "[CV] END C=1.0, class_weight=None, dual=False, loss=hinge, multi_class=crammer_singer, penalty=l1; total time=   3.4s\n",
      "[CV] END C=1.0, class_weight=None, dual=False, loss=hinge, multi_class=crammer_singer, penalty=l1; total time=   3.2s\n",
      "[CV] END C=0.1, class_weight=None, dual=False, loss=squared_hinge, multi_class=crammer_singer, penalty=l1; total time=   2.3s\n",
      "[CV] END C=0.1, class_weight=None, dual=False, loss=squared_hinge, multi_class=crammer_singer, penalty=l1; total time=   2.2s\n",
      "[CV] END C=0.1, class_weight=None, dual=False, loss=squared_hinge, multi_class=crammer_singer, penalty=l1; total time=   2.2s\n",
      "[CV] END C=0.1, class_weight=None, dual=False, loss=squared_hinge, multi_class=crammer_singer, penalty=l1; total time=   2.1s\n",
      "[CV] END C=0.1, class_weight=None, dual=False, loss=squared_hinge, multi_class=crammer_singer, penalty=l1; total time=   2.1s\n",
      "[CV] END C=10.0, class_weight=None, dual=True, loss=hinge, multi_class=ovr, penalty=l2; total time=  10.3s\n",
      "[CV] END C=10.0, class_weight=None, dual=True, loss=hinge, multi_class=ovr, penalty=l2; total time=  11.2s\n",
      "[CV] END C=10.0, class_weight=None, dual=True, loss=hinge, multi_class=ovr, penalty=l2; total time=   5.6s\n",
      "[CV] END C=10.0, class_weight=None, dual=True, loss=hinge, multi_class=ovr, penalty=l2; total time=   3.0s\n",
      "[CV] END C=10.0, class_weight=None, dual=True, loss=hinge, multi_class=ovr, penalty=l2; total time=   3.0s\n",
      "[CV] END C=0.1, class_weight=None, dual=False, loss=squared_hinge, multi_class=ovr, penalty=l1; total time=  10.6s\n",
      "[CV] END C=0.1, class_weight=None, dual=False, loss=squared_hinge, multi_class=ovr, penalty=l1; total time=  10.2s\n",
      "[CV] END C=0.1, class_weight=None, dual=False, loss=squared_hinge, multi_class=ovr, penalty=l1; total time=   9.4s\n",
      "[CV] END C=0.1, class_weight=None, dual=False, loss=squared_hinge, multi_class=ovr, penalty=l1; total time=   9.3s\n",
      "[CV] END C=0.1, class_weight=None, dual=False, loss=squared_hinge, multi_class=ovr, penalty=l1; total time=  10.0s\n",
      "[CV] END C=10.0, class_weight=None, dual=True, loss=squared_hinge, multi_class=crammer_singer, penalty=l1; total time=  18.1s\n",
      "[CV] END C=10.0, class_weight=None, dual=True, loss=squared_hinge, multi_class=crammer_singer, penalty=l1; total time=  23.3s\n",
      "[CV] END C=10.0, class_weight=None, dual=True, loss=squared_hinge, multi_class=crammer_singer, penalty=l1; total time=  17.5s\n",
      "[CV] END C=10.0, class_weight=None, dual=True, loss=squared_hinge, multi_class=crammer_singer, penalty=l1; total time=   3.5s\n",
      "[CV] END C=10.0, class_weight=None, dual=True, loss=squared_hinge, multi_class=crammer_singer, penalty=l1; total time=   3.5s\n",
      "[CV] END C=10.0, class_weight=None, dual=False, loss=squared_hinge, multi_class=crammer_singer, penalty=l2; total time=  17.9s\n",
      "[CV] END C=10.0, class_weight=None, dual=False, loss=squared_hinge, multi_class=crammer_singer, penalty=l2; total time=  22.6s\n",
      "[CV] END C=10.0, class_weight=None, dual=False, loss=squared_hinge, multi_class=crammer_singer, penalty=l2; total time=  19.6s\n",
      "[CV] END C=10.0, class_weight=None, dual=False, loss=squared_hinge, multi_class=crammer_singer, penalty=l2; total time=   3.6s\n",
      "[CV] END C=10.0, class_weight=None, dual=False, loss=squared_hinge, multi_class=crammer_singer, penalty=l2; total time=   3.3s\n",
      "[CV] END C=10.0, class_weight=balanced, dual=True, loss=squared_hinge, multi_class=crammer_singer, penalty=l2; total time=  14.0s\n",
      "[CV] END C=10.0, class_weight=balanced, dual=True, loss=squared_hinge, multi_class=crammer_singer, penalty=l2; total time=  19.4s\n",
      "[CV] END C=10.0, class_weight=balanced, dual=True, loss=squared_hinge, multi_class=crammer_singer, penalty=l2; total time=  22.6s\n",
      "[CV] END C=10.0, class_weight=balanced, dual=True, loss=squared_hinge, multi_class=crammer_singer, penalty=l2; total time=   3.6s\n",
      "[CV] END C=10.0, class_weight=balanced, dual=True, loss=squared_hinge, multi_class=crammer_singer, penalty=l2; total time=   3.4s\n",
      "[CV] END C=1.0, class_weight=None, dual=True, loss=squared_hinge, multi_class=crammer_singer, penalty=l2; total time=  16.3s\n",
      "[CV] END C=1.0, class_weight=None, dual=True, loss=squared_hinge, multi_class=crammer_singer, penalty=l2; total time=  19.5s\n",
      "[CV] END C=1.0, class_weight=None, dual=True, loss=squared_hinge, multi_class=crammer_singer, penalty=l2; total time=  22.5s\n",
      "[CV] END C=1.0, class_weight=None, dual=True, loss=squared_hinge, multi_class=crammer_singer, penalty=l2; total time=   3.4s\n",
      "[CV] END C=1.0, class_weight=None, dual=True, loss=squared_hinge, multi_class=crammer_singer, penalty=l2; total time=   3.5s\n"
     ]
    },
    {
     "name": "stderr",
     "output_type": "stream",
     "text": [
      "/home/ross/anaconda3/lib/python3.9/site-packages/sklearn/svm/_base.py:1206: ConvergenceWarning: Liblinear failed to converge, increase the number of iterations.\n",
      "  warnings.warn(\n"
     ]
    },
    {
     "data": {
      "text/plain": "RandomizedSearchCV(cv=5, estimator=LinearSVC(),\n                   param_distributions={'C': [0.1, 1.0, 10.0],\n                                        'class_weight': [None, 'balanced'],\n                                        'dual': [True, False],\n                                        'loss': ['hinge', 'squared_hinge'],\n                                        'multi_class': ['ovr',\n                                                        'crammer_singer'],\n                                        'penalty': ['l1', 'l2']},\n                   random_state=13, scoring='accuracy', verbose=2)"
     },
     "execution_count": 26,
     "metadata": {},
     "output_type": "execute_result"
    }
   ],
   "source": [
    "# Create a GridSearchCV object\n",
    "random_search = RandomizedSearchCV(estimator=svm_classifier, param_distributions=param_grid, n_iter=10, scoring='accuracy', cv=5, verbose=2, random_state=13)\n",
    "\n",
    "# Perform the grid search on your data\n",
    "random_search.fit(X_combined, y)"
   ],
   "metadata": {
    "collapsed": false,
    "ExecuteTime": {
     "end_time": "2023-11-05T13:10:51.459837668Z",
     "start_time": "2023-11-05T13:01:40.117326190Z"
    }
   },
   "id": "720af76886058570"
  },
  {
   "cell_type": "code",
   "execution_count": 27,
   "outputs": [
    {
     "name": "stdout",
     "output_type": "stream",
     "text": [
      "Best Parameters: {'penalty': 'l1', 'multi_class': 'crammer_singer', 'loss': 'squared_hinge', 'dual': False, 'class_weight': 'balanced', 'C': 10.0}\n",
      "Best Accuracy: 0.595188615680883\n"
     ]
    }
   ],
   "source": [
    "# Print the best parameters and the corresponding cross-validated accuracy\n",
    "print(\"Best Parameters:\", random_search.best_params_)\n",
    "print(\"Best Accuracy:\", random_search.best_score_)"
   ],
   "metadata": {
    "collapsed": false,
    "ExecuteTime": {
     "end_time": "2023-11-05T13:10:51.462645913Z",
     "start_time": "2023-11-05T13:10:51.457195327Z"
    }
   },
   "id": "8dc8b38c77c084e6"
  },
  {
   "cell_type": "markdown",
   "source": [
    "### Logistic Regression"
   ],
   "metadata": {
    "collapsed": false
   },
   "id": "ead6752f176e292f"
  },
  {
   "cell_type": "code",
   "execution_count": 28,
   "outputs": [],
   "source": [
    "# Create a Logistic Regression classifier\n",
    "logistic_classifier = LogisticRegression(solver='liblinear', random_state=13)\n",
    "\n",
    "# Define a parameter distribution for Randomized Search\n",
    "param_dist = {\n",
    "    'C': [0.001, 0.01, 0.1, 1.0, 10.0],  # Regularization parameter\n",
    "    'penalty': ['l1', 'l2'],  # Regularization penalty\n",
    "    'class_weight': [None, 'balanced'],  # Class weighting\n",
    "    'fit_intercept': [True, False],  # Intercept fitting\n",
    "    'max_iter': [100, 200, 300, 400],  # Maximum number of iterations\n",
    "}"
   ],
   "metadata": {
    "collapsed": false,
    "ExecuteTime": {
     "end_time": "2023-11-05T13:10:51.462780456Z",
     "start_time": "2023-11-05T13:10:51.457315729Z"
    }
   },
   "id": "a84ee7bb24bb7110"
  },
  {
   "cell_type": "code",
   "execution_count": 29,
   "outputs": [
    {
     "name": "stdout",
     "output_type": "stream",
     "text": [
      "Fitting 5 folds for each of 10 candidates, totalling 50 fits\n",
      "[CV] END C=0.001, class_weight=balanced, fit_intercept=False, max_iter=400, penalty=l1; total time=   1.9s\n",
      "[CV] END C=0.001, class_weight=balanced, fit_intercept=False, max_iter=400, penalty=l1; total time=   1.9s\n",
      "[CV] END C=0.001, class_weight=balanced, fit_intercept=False, max_iter=400, penalty=l1; total time=   2.0s\n",
      "[CV] END C=0.001, class_weight=balanced, fit_intercept=False, max_iter=400, penalty=l1; total time=   1.9s\n",
      "[CV] END C=0.001, class_weight=balanced, fit_intercept=False, max_iter=400, penalty=l1; total time=   1.9s\n",
      "[CV] END C=0.01, class_weight=balanced, fit_intercept=True, max_iter=400, penalty=l1; total time=   7.3s\n",
      "[CV] END C=0.01, class_weight=balanced, fit_intercept=True, max_iter=400, penalty=l1; total time=   7.3s\n",
      "[CV] END C=0.01, class_weight=balanced, fit_intercept=True, max_iter=400, penalty=l1; total time=   7.3s\n",
      "[CV] END C=0.01, class_weight=balanced, fit_intercept=True, max_iter=400, penalty=l1; total time=   7.3s\n",
      "[CV] END C=0.01, class_weight=balanced, fit_intercept=True, max_iter=400, penalty=l1; total time=   7.2s\n",
      "[CV] END C=10.0, class_weight=None, fit_intercept=True, max_iter=200, penalty=l2; total time=  18.1s\n",
      "[CV] END C=10.0, class_weight=None, fit_intercept=True, max_iter=200, penalty=l2; total time=  17.7s\n",
      "[CV] END C=10.0, class_weight=None, fit_intercept=True, max_iter=200, penalty=l2; total time=  18.6s\n",
      "[CV] END C=10.0, class_weight=None, fit_intercept=True, max_iter=200, penalty=l2; total time=  18.1s\n",
      "[CV] END C=10.0, class_weight=None, fit_intercept=True, max_iter=200, penalty=l2; total time=  18.3s\n",
      "[CV] END C=10.0, class_weight=balanced, fit_intercept=False, max_iter=100, penalty=l1; total time=  18.5s\n",
      "[CV] END C=10.0, class_weight=balanced, fit_intercept=False, max_iter=100, penalty=l1; total time=  18.9s\n",
      "[CV] END C=10.0, class_weight=balanced, fit_intercept=False, max_iter=100, penalty=l1; total time=  18.9s\n",
      "[CV] END C=10.0, class_weight=balanced, fit_intercept=False, max_iter=100, penalty=l1; total time=  19.0s\n",
      "[CV] END C=10.0, class_weight=balanced, fit_intercept=False, max_iter=100, penalty=l1; total time=  18.5s\n",
      "[CV] END C=0.1, class_weight=None, fit_intercept=True, max_iter=200, penalty=l1; total time=  18.5s\n",
      "[CV] END C=0.1, class_weight=None, fit_intercept=True, max_iter=200, penalty=l1; total time=  18.6s\n",
      "[CV] END C=0.1, class_weight=None, fit_intercept=True, max_iter=200, penalty=l1; total time=  19.0s\n",
      "[CV] END C=0.1, class_weight=None, fit_intercept=True, max_iter=200, penalty=l1; total time=  18.4s\n",
      "[CV] END C=0.1, class_weight=None, fit_intercept=True, max_iter=200, penalty=l1; total time=  17.7s\n",
      "[CV] END C=1.0, class_weight=None, fit_intercept=False, max_iter=100, penalty=l1; total time=  14.8s\n",
      "[CV] END C=1.0, class_weight=None, fit_intercept=False, max_iter=100, penalty=l1; total time=  14.4s\n",
      "[CV] END C=1.0, class_weight=None, fit_intercept=False, max_iter=100, penalty=l1; total time=  14.5s\n",
      "[CV] END C=1.0, class_weight=None, fit_intercept=False, max_iter=100, penalty=l1; total time=  14.9s\n",
      "[CV] END C=1.0, class_weight=None, fit_intercept=False, max_iter=100, penalty=l1; total time=  14.4s\n",
      "[CV] END C=1.0, class_weight=balanced, fit_intercept=False, max_iter=400, penalty=l2; total time=  11.0s\n",
      "[CV] END C=1.0, class_weight=balanced, fit_intercept=False, max_iter=400, penalty=l2; total time=  11.0s\n",
      "[CV] END C=1.0, class_weight=balanced, fit_intercept=False, max_iter=400, penalty=l2; total time=  11.5s\n",
      "[CV] END C=1.0, class_weight=balanced, fit_intercept=False, max_iter=400, penalty=l2; total time=  10.9s\n",
      "[CV] END C=1.0, class_weight=balanced, fit_intercept=False, max_iter=400, penalty=l2; total time=  10.6s\n",
      "[CV] END C=1.0, class_weight=None, fit_intercept=True, max_iter=100, penalty=l2; total time=  11.8s\n",
      "[CV] END C=1.0, class_weight=None, fit_intercept=True, max_iter=100, penalty=l2; total time=  11.8s\n",
      "[CV] END C=1.0, class_weight=None, fit_intercept=True, max_iter=100, penalty=l2; total time=  12.2s\n",
      "[CV] END C=1.0, class_weight=None, fit_intercept=True, max_iter=100, penalty=l2; total time=  12.1s\n",
      "[CV] END C=1.0, class_weight=None, fit_intercept=True, max_iter=100, penalty=l2; total time=  11.4s\n",
      "[CV] END C=1.0, class_weight=None, fit_intercept=False, max_iter=200, penalty=l1; total time=  14.8s\n",
      "[CV] END C=1.0, class_weight=None, fit_intercept=False, max_iter=200, penalty=l1; total time=  14.4s\n",
      "[CV] END C=1.0, class_weight=None, fit_intercept=False, max_iter=200, penalty=l1; total time=  14.5s\n",
      "[CV] END C=1.0, class_weight=None, fit_intercept=False, max_iter=200, penalty=l1; total time=  14.9s\n",
      "[CV] END C=1.0, class_weight=None, fit_intercept=False, max_iter=200, penalty=l1; total time=  14.4s\n",
      "[CV] END C=0.01, class_weight=None, fit_intercept=True, max_iter=100, penalty=l2; total time=   4.8s\n",
      "[CV] END C=0.01, class_weight=None, fit_intercept=True, max_iter=100, penalty=l2; total time=   5.1s\n",
      "[CV] END C=0.01, class_weight=None, fit_intercept=True, max_iter=100, penalty=l2; total time=   5.2s\n",
      "[CV] END C=0.01, class_weight=None, fit_intercept=True, max_iter=100, penalty=l2; total time=   5.1s\n",
      "[CV] END C=0.01, class_weight=None, fit_intercept=True, max_iter=100, penalty=l2; total time=   4.9s\n"
     ]
    },
    {
     "data": {
      "text/plain": "RandomizedSearchCV(cv=5,\n                   estimator=LogisticRegression(random_state=13,\n                                                solver='liblinear'),\n                   param_distributions={'C': [0.001, 0.01, 0.1, 1.0, 10.0],\n                                        'class_weight': [None, 'balanced'],\n                                        'fit_intercept': [True, False],\n                                        'max_iter': [100, 200, 300, 400],\n                                        'penalty': ['l1', 'l2']},\n                   random_state=13, scoring='accuracy', verbose=2)"
     },
     "execution_count": 29,
     "metadata": {},
     "output_type": "execute_result"
    }
   ],
   "source": [
    "# Create a RandomizedSearchCV object\n",
    "random_search = RandomizedSearchCV(estimator=logistic_classifier, param_distributions=param_dist, n_iter=10, scoring='accuracy', cv=5, verbose=2, random_state=13)\n",
    "\n",
    "# Perform the randomized search\n",
    "random_search.fit(X_combined, y)"
   ],
   "metadata": {
    "collapsed": false,
    "ExecuteTime": {
     "end_time": "2023-11-05T13:21:13.452711431Z",
     "start_time": "2023-11-05T13:10:51.457391621Z"
    }
   },
   "id": "2f07a7e47137b91b"
  },
  {
   "cell_type": "code",
   "execution_count": 30,
   "outputs": [
    {
     "name": "stdout",
     "output_type": "stream",
     "text": [
      "Best Parameters: {'penalty': 'l2', 'max_iter': 400, 'fit_intercept': False, 'class_weight': 'balanced', 'C': 1.0}\n",
      "Best Accuracy: 0.615587346412027\n"
     ]
    }
   ],
   "source": [
    "print(\"Best Parameters:\", random_search.best_params_)\n",
    "print(\"Best Accuracy:\", random_search.best_score_)"
   ],
   "metadata": {
    "collapsed": false,
    "ExecuteTime": {
     "end_time": "2023-11-05T13:21:13.455886566Z",
     "start_time": "2023-11-05T13:21:13.437216253Z"
    }
   },
   "id": "1317c9d63ac0f5f2"
  },
  {
   "cell_type": "markdown",
   "source": [
    "### Random Forest"
   ],
   "metadata": {
    "collapsed": false
   },
   "id": "81241715154eda8e"
  },
  {
   "cell_type": "code",
   "execution_count": 31,
   "outputs": [],
   "source": [
    "# Create a Random Forest classifier\n",
    "rf_classifier = RandomForestClassifier(random_state=13)\n",
    "\n",
    "# Define a parameter distribution for Randomized Search\n",
    "param_dist = {\n",
    "    'n_estimators': [50, 100, 200, 300],  # Number of trees in the forest\n",
    "    'max_depth': [None, 10, 20, 30],  # Maximum depth of the tree\n",
    "    'min_samples_split': [2, 5, 10],  # Minimum samples required to split a node\n",
    "    'min_samples_leaf': [1, 2, 4],  # Minimum samples required at a leaf node\n",
    "    'bootstrap': [True, False],  # Whether to use bootstrapping\n",
    "    'class_weight': [None, 'balanced', 'balanced_subsample'],  # Class weighting\n",
    "}"
   ],
   "metadata": {
    "collapsed": false,
    "ExecuteTime": {
     "end_time": "2023-11-05T13:21:13.456047646Z",
     "start_time": "2023-11-05T13:21:13.437396366Z"
    }
   },
   "id": "c9b50dd22c9609cc"
  },
  {
   "cell_type": "code",
   "execution_count": 32,
   "outputs": [
    {
     "name": "stdout",
     "output_type": "stream",
     "text": [
      "Fitting 5 folds for each of 10 candidates, totalling 50 fits\n",
      "[CV] END bootstrap=False, class_weight=balanced, max_depth=20, min_samples_leaf=1, min_samples_split=2, n_estimators=50; total time=  18.4s\n",
      "[CV] END bootstrap=False, class_weight=balanced, max_depth=20, min_samples_leaf=1, min_samples_split=2, n_estimators=50; total time=  18.8s\n",
      "[CV] END bootstrap=False, class_weight=balanced, max_depth=20, min_samples_leaf=1, min_samples_split=2, n_estimators=50; total time=  18.9s\n",
      "[CV] END bootstrap=False, class_weight=balanced, max_depth=20, min_samples_leaf=1, min_samples_split=2, n_estimators=50; total time=  18.6s\n",
      "[CV] END bootstrap=False, class_weight=balanced, max_depth=20, min_samples_leaf=1, min_samples_split=2, n_estimators=50; total time=  17.5s\n",
      "[CV] END bootstrap=True, class_weight=balanced, max_depth=30, min_samples_leaf=4, min_samples_split=10, n_estimators=200; total time=  49.0s\n",
      "[CV] END bootstrap=True, class_weight=balanced, max_depth=30, min_samples_leaf=4, min_samples_split=10, n_estimators=200; total time=  49.4s\n",
      "[CV] END bootstrap=True, class_weight=balanced, max_depth=30, min_samples_leaf=4, min_samples_split=10, n_estimators=200; total time=  50.6s\n",
      "[CV] END bootstrap=True, class_weight=balanced, max_depth=30, min_samples_leaf=4, min_samples_split=10, n_estimators=200; total time=  49.1s\n",
      "[CV] END bootstrap=True, class_weight=balanced, max_depth=30, min_samples_leaf=4, min_samples_split=10, n_estimators=200; total time=  45.7s\n",
      "[CV] END bootstrap=False, class_weight=balanced, max_depth=10, min_samples_leaf=4, min_samples_split=10, n_estimators=300; total time=  41.9s\n",
      "[CV] END bootstrap=False, class_weight=balanced, max_depth=10, min_samples_leaf=4, min_samples_split=10, n_estimators=300; total time=  42.1s\n",
      "[CV] END bootstrap=False, class_weight=balanced, max_depth=10, min_samples_leaf=4, min_samples_split=10, n_estimators=300; total time=  42.9s\n",
      "[CV] END bootstrap=False, class_weight=balanced, max_depth=10, min_samples_leaf=4, min_samples_split=10, n_estimators=300; total time=  41.7s\n",
      "[CV] END bootstrap=False, class_weight=balanced, max_depth=10, min_samples_leaf=4, min_samples_split=10, n_estimators=300; total time=  39.2s\n",
      "[CV] END bootstrap=False, class_weight=None, max_depth=30, min_samples_leaf=4, min_samples_split=10, n_estimators=100; total time=  38.1s\n",
      "[CV] END bootstrap=False, class_weight=None, max_depth=30, min_samples_leaf=4, min_samples_split=10, n_estimators=100; total time=  38.5s\n",
      "[CV] END bootstrap=False, class_weight=None, max_depth=30, min_samples_leaf=4, min_samples_split=10, n_estimators=100; total time=  39.6s\n",
      "[CV] END bootstrap=False, class_weight=None, max_depth=30, min_samples_leaf=4, min_samples_split=10, n_estimators=100; total time=  38.3s\n",
      "[CV] END bootstrap=False, class_weight=None, max_depth=30, min_samples_leaf=4, min_samples_split=10, n_estimators=100; total time=  35.6s\n",
      "[CV] END bootstrap=False, class_weight=balanced_subsample, max_depth=20, min_samples_leaf=2, min_samples_split=2, n_estimators=300; total time= 1.4min\n",
      "[CV] END bootstrap=False, class_weight=balanced_subsample, max_depth=20, min_samples_leaf=2, min_samples_split=2, n_estimators=300; total time= 1.5min\n",
      "[CV] END bootstrap=False, class_weight=balanced_subsample, max_depth=20, min_samples_leaf=2, min_samples_split=2, n_estimators=300; total time= 1.5min\n",
      "[CV] END bootstrap=False, class_weight=balanced_subsample, max_depth=20, min_samples_leaf=2, min_samples_split=2, n_estimators=300; total time= 1.4min\n",
      "[CV] END bootstrap=False, class_weight=balanced_subsample, max_depth=20, min_samples_leaf=2, min_samples_split=2, n_estimators=300; total time= 1.3min\n",
      "[CV] END bootstrap=False, class_weight=None, max_depth=30, min_samples_leaf=4, min_samples_split=5, n_estimators=100; total time=  38.3s\n",
      "[CV] END bootstrap=False, class_weight=None, max_depth=30, min_samples_leaf=4, min_samples_split=5, n_estimators=100; total time=  38.6s\n",
      "[CV] END bootstrap=False, class_weight=None, max_depth=30, min_samples_leaf=4, min_samples_split=5, n_estimators=100; total time=  39.5s\n",
      "[CV] END bootstrap=False, class_weight=None, max_depth=30, min_samples_leaf=4, min_samples_split=5, n_estimators=100; total time=  38.2s\n",
      "[CV] END bootstrap=False, class_weight=None, max_depth=30, min_samples_leaf=4, min_samples_split=5, n_estimators=100; total time=  36.0s\n",
      "[CV] END bootstrap=True, class_weight=balanced, max_depth=20, min_samples_leaf=1, min_samples_split=5, n_estimators=200; total time=  45.4s\n",
      "[CV] END bootstrap=True, class_weight=balanced, max_depth=20, min_samples_leaf=1, min_samples_split=5, n_estimators=200; total time=  45.0s\n",
      "[CV] END bootstrap=True, class_weight=balanced, max_depth=20, min_samples_leaf=1, min_samples_split=5, n_estimators=200; total time=  45.9s\n",
      "[CV] END bootstrap=True, class_weight=balanced, max_depth=20, min_samples_leaf=1, min_samples_split=5, n_estimators=200; total time=  44.1s\n",
      "[CV] END bootstrap=True, class_weight=balanced, max_depth=20, min_samples_leaf=1, min_samples_split=5, n_estimators=200; total time=  42.3s\n",
      "[CV] END bootstrap=False, class_weight=balanced_subsample, max_depth=None, min_samples_leaf=2, min_samples_split=2, n_estimators=100; total time= 2.8min\n",
      "[CV] END bootstrap=False, class_weight=balanced_subsample, max_depth=None, min_samples_leaf=2, min_samples_split=2, n_estimators=100; total time= 2.9min\n",
      "[CV] END bootstrap=False, class_weight=balanced_subsample, max_depth=None, min_samples_leaf=2, min_samples_split=2, n_estimators=100; total time= 2.9min\n",
      "[CV] END bootstrap=False, class_weight=balanced_subsample, max_depth=None, min_samples_leaf=2, min_samples_split=2, n_estimators=100; total time= 2.8min\n",
      "[CV] END bootstrap=False, class_weight=balanced_subsample, max_depth=None, min_samples_leaf=2, min_samples_split=2, n_estimators=100; total time= 2.6min\n",
      "[CV] END bootstrap=True, class_weight=balanced, max_depth=30, min_samples_leaf=1, min_samples_split=10, n_estimators=50; total time=  17.3s\n",
      "[CV] END bootstrap=True, class_weight=balanced, max_depth=30, min_samples_leaf=1, min_samples_split=10, n_estimators=50; total time=  17.4s\n",
      "[CV] END bootstrap=True, class_weight=balanced, max_depth=30, min_samples_leaf=1, min_samples_split=10, n_estimators=50; total time=  17.9s\n",
      "[CV] END bootstrap=True, class_weight=balanced, max_depth=30, min_samples_leaf=1, min_samples_split=10, n_estimators=50; total time=  17.2s\n",
      "[CV] END bootstrap=True, class_weight=balanced, max_depth=30, min_samples_leaf=1, min_samples_split=10, n_estimators=50; total time=  16.5s\n",
      "[CV] END bootstrap=True, class_weight=None, max_depth=10, min_samples_leaf=1, min_samples_split=10, n_estimators=200; total time=  20.9s\n",
      "[CV] END bootstrap=True, class_weight=None, max_depth=10, min_samples_leaf=1, min_samples_split=10, n_estimators=200; total time=  20.9s\n",
      "[CV] END bootstrap=True, class_weight=None, max_depth=10, min_samples_leaf=1, min_samples_split=10, n_estimators=200; total time=  21.1s\n",
      "[CV] END bootstrap=True, class_weight=None, max_depth=10, min_samples_leaf=1, min_samples_split=10, n_estimators=200; total time=  20.8s\n",
      "[CV] END bootstrap=True, class_weight=None, max_depth=10, min_samples_leaf=1, min_samples_split=10, n_estimators=200; total time=  19.8s\n"
     ]
    },
    {
     "data": {
      "text/plain": "RandomizedSearchCV(cv=5, estimator=RandomForestClassifier(random_state=13),\n                   param_distributions={'bootstrap': [True, False],\n                                        'class_weight': [None, 'balanced',\n                                                         'balanced_subsample'],\n                                        'max_depth': [None, 10, 20, 30],\n                                        'min_samples_leaf': [1, 2, 4],\n                                        'min_samples_split': [2, 5, 10],\n                                        'n_estimators': [50, 100, 200, 300]},\n                   random_state=13, scoring='accuracy', verbose=2)"
     },
     "execution_count": 32,
     "metadata": {},
     "output_type": "execute_result"
    }
   ],
   "source": [
    "# Create a RandomizedSearchCV object\n",
    "random_search = RandomizedSearchCV(estimator=rf_classifier, param_distributions=param_dist, n_iter=10, scoring='accuracy', cv=5, verbose=2, random_state=13)\n",
    "\n",
    "# Perform the randomized search\n",
    "random_search.fit(X_combined, y)"
   ],
   "metadata": {
    "collapsed": false,
    "ExecuteTime": {
     "end_time": "2023-11-05T14:05:35.526769568Z",
     "start_time": "2023-11-05T13:21:13.437476285Z"
    }
   },
   "id": "a72e78156bbbe000"
  },
  {
   "cell_type": "code",
   "execution_count": 33,
   "outputs": [
    {
     "name": "stdout",
     "output_type": "stream",
     "text": [
      "Best Parameters: {'n_estimators': 100, 'min_samples_split': 2, 'min_samples_leaf': 2, 'max_depth': None, 'class_weight': 'balanced_subsample', 'bootstrap': False}\n",
      "Best Accuracy: 0.5898198455955463\n"
     ]
    }
   ],
   "source": [
    "# Print the best parameters and the corresponding cross-validated accuracy\n",
    "print(\"Best Parameters:\", random_search.best_params_)\n",
    "print(\"Best Accuracy:\", random_search.best_score_)"
   ],
   "metadata": {
    "collapsed": false,
    "ExecuteTime": {
     "end_time": "2023-11-05T14:05:35.550042826Z",
     "start_time": "2023-11-05T14:05:35.529609667Z"
    }
   },
   "id": "941aea026f84ba00"
  },
  {
   "cell_type": "markdown",
   "source": [
    "So the best accuracy we get is with logistic regression at 61.55%. With 5 choices I'd say that's a pretty successful model."
   ],
   "metadata": {
    "collapsed": false
   },
   "id": "ab2f148337b7989d"
  },
  {
   "cell_type": "markdown",
   "source": [
    "## Trying new reviews"
   ],
   "metadata": {
    "collapsed": false
   },
   "id": "1fefbc31df5723a9"
  },
  {
   "cell_type": "markdown",
   "source": [
    "Let's take the best parameters from our random search validation, fit and then predict the models on a range of reviews."
   ],
   "metadata": {
    "collapsed": false
   },
   "id": "d5bf21a7e0f40468"
  },
  {
   "cell_type": "code",
   "execution_count": 34,
   "outputs": [
    {
     "data": {
      "text/plain": "LinearSVC(C=10.0, class_weight='balanced', dual=False,\n          multi_class='crammer_singer', penalty='l1')"
     },
     "execution_count": 34,
     "metadata": {},
     "output_type": "execute_result"
    }
   ],
   "source": [
    "# Create an SVM classifier with the \"best\" parameters\n",
    "best_svm_classifier = LinearSVC(penalty='l1', multi_class='crammer_singer', loss='squared_hinge', dual=False, class_weight='balanced', C=10.0)\n",
    "\n",
    "# Fit the model\n",
    "best_svm_classifier.fit(X_combined, y)"
   ],
   "metadata": {
    "collapsed": false,
    "ExecuteTime": {
     "end_time": "2023-11-05T14:39:31.452617354Z",
     "start_time": "2023-11-05T14:39:05.963127011Z"
    }
   },
   "id": "50c10e14467de354"
  },
  {
   "cell_type": "code",
   "execution_count": 35,
   "outputs": [
    {
     "data": {
      "text/plain": "LogisticRegression(class_weight='balanced', fit_intercept=False, max_iter=400,\n                   random_state=13, solver='liblinear')"
     },
     "execution_count": 35,
     "metadata": {},
     "output_type": "execute_result"
    }
   ],
   "source": [
    "# Create a logistic regression model from the \"best\" parameters\n",
    "best_lr_class = LogisticRegression(solver='liblinear', random_state=13, penalty = 'l2', max_iter = 400, fit_intercept = False, class_weight = 'balanced', C=1.0)\n",
    "\n",
    "# Fit model\n",
    "best_lr_class.fit(X_combined, y)"
   ],
   "metadata": {
    "collapsed": false,
    "ExecuteTime": {
     "end_time": "2023-11-05T14:39:44.697888331Z",
     "start_time": "2023-11-05T14:39:31.444027436Z"
    }
   },
   "id": "98faa74ed7bfca21"
  },
  {
   "cell_type": "code",
   "execution_count": 36,
   "outputs": [
    {
     "data": {
      "text/plain": "RandomForestClassifier(bootstrap=False, class_weight='balanced_subsample',\n                       min_samples_leaf=2, random_state=13)"
     },
     "execution_count": 36,
     "metadata": {},
     "output_type": "execute_result"
    }
   ],
   "source": [
    "# Create a logistic regression model from the \"best\" parameters\n",
    "best_rf_class = RandomForestClassifier(random_state=13, n_estimators=100, min_samples_split=2, min_samples_leaf=2, max_depth=None, class_weight='balanced_subsample', bootstrap=False)\n",
    "\n",
    "# Fit model\n",
    "best_rf_class.fit(X_combined, y)"
   ],
   "metadata": {
    "collapsed": false,
    "ExecuteTime": {
     "end_time": "2023-11-05T14:40:43.173286280Z",
     "start_time": "2023-11-05T14:39:44.685184873Z"
    }
   },
   "id": "af7d03f0f62b3cfb"
  },
  {
   "cell_type": "code",
   "execution_count": 37,
   "outputs": [],
   "source": [
    "def preprocess_and_vectorize_reviews(new_reviews, ngram_vectorizer, tfidf_vectorizer, tfidf_transformer):\n",
    "    # Clean the text\n",
    "    cleaned_reviews = [re.sub(r'[^a-zA-Z0-9\\s]', '', review.lower()) for review in new_reviews]\n",
    "\n",
    "    # Tokenize the reviews\n",
    "    tokenized_reviews = [word_tokenize(review) for review in cleaned_reviews]\n",
    "\n",
    "    # Remove stopwords\n",
    "    filtered_reviews = [[word for word in tokens if word not in stop_words] for tokens in tokenized_reviews]\n",
    "\n",
    "    # Lemmatize tokens\n",
    "    lemmatized_reviews = [[lemmatizer.lemmatize(word) for word in tokens] for tokens in filtered_reviews]\n",
    "\n",
    "    # Create n-grams\n",
    "    ngrams = [' '.join(tokens) for tokens in lemmatized_reviews]\n",
    "\n",
    "    # Create n-grams vectorized representation\n",
    "    X_ngrams = ngram_vectorizer.transform(ngrams)\n",
    "\n",
    "    # Create TF-IDF vectorized representation\n",
    "    tfidf_reviews = [' '.join(tokens) for tokens in lemmatized_reviews]\n",
    "    X_tfidf = tfidf_vectorizer.transform(tfidf_reviews)\n",
    "\n",
    "    # Transform n-grams with TF-IDF\n",
    "    X_ngrams_tfidf = tfidf_transformer.transform(X_ngrams)\n",
    "\n",
    "    # Combine n-grams TF-IDF and TF-IDF reviews horizontally\n",
    "    new_X_combined = hstack([X_ngrams_tfidf, X_tfidf])\n",
    "\n",
    "    return new_X_combined\n",
    "\n",
    "# Sample new reviews as a list of strings. Generated using ChatGPT 3.5 with the prompt of \"Write 5 hotel reviews. They should be terrible, poor, middling, good and brilliant\"\n",
    "new_reviews = [\n",
    "    \"My recent stay at this hotel was a disaster. The room was filthy, with stains on the carpet and the bathroom was in disarray. The staff seemed disinterested and unhelpful, and the noise from the adjacent construction site was unbearable throughout the night. I wouldn't recommend this place to my worst enemy. Avoid at all costs!\",\n",
    "    \"The hotel left much to be desired. The room was cramped, and it had a strange smell. The staff were indifferent, and the amenities were lackluster. I wouldn't recommend this place unless you're on a tight budget.\",\n",
    "    \"My stay at this hotel was okay. The room was clean but a bit dated. The staff were polite, but the service felt slow at times. The location is convenient, and the breakfast was decent. It's not a bad choice if you're looking for an affordable option, but don't expect anything extraordinary.\",\n",
    "    \"My stay at this hotel was quite pleasant. The room was comfortable, and the staff was friendly. The hotel's location was convenient, but some areas felt slightly dated. Overall, it's a good choice for a short stay, and I would consider returning in the future.\",\n",
    "    \"I can't say enough good things about this hotel. From the moment I arrived, I was treated like royalty. The room was spacious and beautifully decorated, with a stunning view of the city. The staff went above and beyond to make my stay exceptional. The dining options were exquisite, and the spa was pure relaxation. I left with unforgettable memories. This hotel is a gem, and I can't wait to return.\"\n",
    "]\n",
    "\n",
    "# Call the function to preprocess and vectorize the new reviews\n",
    "new_reviews_features = preprocess_and_vectorize_reviews(new_reviews, ngram_vectorizer, tfidf_vectorizer, tfidf_transformer)"
   ],
   "metadata": {
    "collapsed": false,
    "ExecuteTime": {
     "end_time": "2023-11-05T14:40:43.173675185Z",
     "start_time": "2023-11-05T14:40:43.161227906Z"
    }
   },
   "id": "ae813c705c0183f6"
  },
  {
   "cell_type": "code",
   "execution_count": 38,
   "outputs": [],
   "source": [
    "# Predict new reviews\n",
    "svm_preds = best_svm_classifier.predict(new_reviews_features)\n",
    "lr_preds = best_lr_class.predict(new_reviews_features)\n",
    "rf_preds = best_rf_class.predict(new_reviews_features)"
   ],
   "metadata": {
    "collapsed": false,
    "ExecuteTime": {
     "end_time": "2023-11-05T14:40:43.249280612Z",
     "start_time": "2023-11-05T14:40:43.161444538Z"
    }
   },
   "id": "926c77224d0990a5"
  },
  {
   "cell_type": "code",
   "execution_count": 39,
   "outputs": [
    {
     "name": "stdout",
     "output_type": "stream",
     "text": [
      "[1 2 3 4 5]\n"
     ]
    }
   ],
   "source": [
    "# SVM predictions\n",
    "print(svm_preds)"
   ],
   "metadata": {
    "collapsed": false,
    "ExecuteTime": {
     "end_time": "2023-11-05T14:40:43.256789602Z",
     "start_time": "2023-11-05T14:40:43.250474701Z"
    }
   },
   "id": "8f9415ffeeb0b56c"
  },
  {
   "cell_type": "code",
   "execution_count": 40,
   "outputs": [
    {
     "name": "stdout",
     "output_type": "stream",
     "text": [
      "[1 2 3 4 5]\n"
     ]
    }
   ],
   "source": [
    "# Linear regression predictions\n",
    "print(lr_preds)"
   ],
   "metadata": {
    "collapsed": false,
    "ExecuteTime": {
     "end_time": "2023-11-05T14:40:43.260688389Z",
     "start_time": "2023-11-05T14:40:43.254207572Z"
    }
   },
   "id": "3d3c987e67172835"
  },
  {
   "cell_type": "code",
   "execution_count": 41,
   "outputs": [
    {
     "name": "stdout",
     "output_type": "stream",
     "text": [
      "[1 1 3 4 5]\n"
     ]
    }
   ],
   "source": [
    "# Random forrest predictions\n",
    "print(rf_preds)"
   ],
   "metadata": {
    "collapsed": false,
    "ExecuteTime": {
     "end_time": "2023-11-05T14:40:43.319608574Z",
     "start_time": "2023-11-05T14:40:43.301145618Z"
    }
   },
   "id": "d1260dd8d5441299"
  },
  {
   "cell_type": "markdown",
   "source": [
    "Interestingly, the shorter poor review was mislabeled by the random forrest classifier. Otherwise, the models all gave expected outputs."
   ],
   "metadata": {
    "collapsed": false
   },
   "id": "103454b80629f9a0"
  }
 ],
 "metadata": {
  "kernelspec": {
   "display_name": "Python 3",
   "language": "python",
   "name": "python3"
  },
  "language_info": {
   "codemirror_mode": {
    "name": "ipython",
    "version": 2
   },
   "file_extension": ".py",
   "mimetype": "text/x-python",
   "name": "python",
   "nbconvert_exporter": "python",
   "pygments_lexer": "ipython2",
   "version": "2.7.6"
  }
 },
 "nbformat": 4,
 "nbformat_minor": 5
}
