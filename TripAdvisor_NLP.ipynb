{
 "cells": [
  {
   "cell_type": "markdown",
   "source": [
    "# TripAdvisor Review NLP Project"
   ],
   "metadata": {
    "collapsed": false
   },
   "id": "1c1576c8cb349513"
  },
  {
   "cell_type": "markdown",
   "source": [
    "## Importing packages, data and checking data integrity"
   ],
   "metadata": {
    "collapsed": false
   },
   "id": "427f09fefb666d70"
  },
  {
   "cell_type": "code",
   "execution_count": 6,
   "outputs": [],
   "source": [
    "# Standard Imports\n",
    "import pandas as pd\n",
    "import matplotlib.pyplot as plt"
   ],
   "metadata": {
    "collapsed": false,
    "ExecuteTime": {
     "end_time": "2023-11-03T12:55:57.526321206Z",
     "start_time": "2023-11-03T12:55:57.050674516Z"
    }
   },
   "id": "5210d704d0dc1924"
  },
  {
   "cell_type": "code",
   "execution_count": 2,
   "outputs": [],
   "source": [
    "# Ingest Data\n",
    "tripAdvisor_df = pd.read_csv('data/tripadvisor_hotel_reviews.csv')"
   ],
   "metadata": {
    "collapsed": false,
    "ExecuteTime": {
     "end_time": "2023-11-03T12:52:03.786664944Z",
     "start_time": "2023-11-03T12:52:03.671266094Z"
    }
   },
   "id": "99f2b154f90b90b2"
  },
  {
   "cell_type": "code",
   "execution_count": 3,
   "outputs": [
    {
     "data": {
      "text/plain": "                                                  Review  Rating\n0      nice hotel expensive parking got good deal sta...       4\n1      ok nothing special charge diamond member hilto...       2\n2      nice rooms not 4* experience hotel monaco seat...       3\n3      unique, great stay, wonderful time hotel monac...       5\n4      great stay great stay, went seahawk game aweso...       5\n...                                                  ...     ...\n20486  best kept secret 3rd time staying charm, not 5...       5\n20487  great location price view hotel great quick pl...       4\n20488  ok just looks nice modern outside, desk staff ...       2\n20489  hotel theft ruined vacation hotel opened sept ...       1\n20490  people talking, ca n't believe excellent ratin...       2\n\n[20491 rows x 2 columns]",
      "text/html": "<div>\n<style scoped>\n    .dataframe tbody tr th:only-of-type {\n        vertical-align: middle;\n    }\n\n    .dataframe tbody tr th {\n        vertical-align: top;\n    }\n\n    .dataframe thead th {\n        text-align: right;\n    }\n</style>\n<table border=\"1\" class=\"dataframe\">\n  <thead>\n    <tr style=\"text-align: right;\">\n      <th></th>\n      <th>Review</th>\n      <th>Rating</th>\n    </tr>\n  </thead>\n  <tbody>\n    <tr>\n      <th>0</th>\n      <td>nice hotel expensive parking got good deal sta...</td>\n      <td>4</td>\n    </tr>\n    <tr>\n      <th>1</th>\n      <td>ok nothing special charge diamond member hilto...</td>\n      <td>2</td>\n    </tr>\n    <tr>\n      <th>2</th>\n      <td>nice rooms not 4* experience hotel monaco seat...</td>\n      <td>3</td>\n    </tr>\n    <tr>\n      <th>3</th>\n      <td>unique, great stay, wonderful time hotel monac...</td>\n      <td>5</td>\n    </tr>\n    <tr>\n      <th>4</th>\n      <td>great stay great stay, went seahawk game aweso...</td>\n      <td>5</td>\n    </tr>\n    <tr>\n      <th>...</th>\n      <td>...</td>\n      <td>...</td>\n    </tr>\n    <tr>\n      <th>20486</th>\n      <td>best kept secret 3rd time staying charm, not 5...</td>\n      <td>5</td>\n    </tr>\n    <tr>\n      <th>20487</th>\n      <td>great location price view hotel great quick pl...</td>\n      <td>4</td>\n    </tr>\n    <tr>\n      <th>20488</th>\n      <td>ok just looks nice modern outside, desk staff ...</td>\n      <td>2</td>\n    </tr>\n    <tr>\n      <th>20489</th>\n      <td>hotel theft ruined vacation hotel opened sept ...</td>\n      <td>1</td>\n    </tr>\n    <tr>\n      <th>20490</th>\n      <td>people talking, ca n't believe excellent ratin...</td>\n      <td>2</td>\n    </tr>\n  </tbody>\n</table>\n<p>20491 rows × 2 columns</p>\n</div>"
     },
     "execution_count": 3,
     "metadata": {},
     "output_type": "execute_result"
    }
   ],
   "source": [
    "# View data\n",
    "tripAdvisor_df"
   ],
   "metadata": {
    "collapsed": false,
    "ExecuteTime": {
     "end_time": "2023-11-03T12:52:37.286991203Z",
     "start_time": "2023-11-03T12:52:37.267464538Z"
    }
   },
   "id": "bfc8e1e9b95ef743"
  },
  {
   "cell_type": "code",
   "execution_count": 4,
   "outputs": [
    {
     "data": {
      "text/plain": "             Rating\ncount  20491.000000\nmean       3.952223\nstd        1.233030\nmin        1.000000\n25%        3.000000\n50%        4.000000\n75%        5.000000\nmax        5.000000",
      "text/html": "<div>\n<style scoped>\n    .dataframe tbody tr th:only-of-type {\n        vertical-align: middle;\n    }\n\n    .dataframe tbody tr th {\n        vertical-align: top;\n    }\n\n    .dataframe thead th {\n        text-align: right;\n    }\n</style>\n<table border=\"1\" class=\"dataframe\">\n  <thead>\n    <tr style=\"text-align: right;\">\n      <th></th>\n      <th>Rating</th>\n    </tr>\n  </thead>\n  <tbody>\n    <tr>\n      <th>count</th>\n      <td>20491.000000</td>\n    </tr>\n    <tr>\n      <th>mean</th>\n      <td>3.952223</td>\n    </tr>\n    <tr>\n      <th>std</th>\n      <td>1.233030</td>\n    </tr>\n    <tr>\n      <th>min</th>\n      <td>1.000000</td>\n    </tr>\n    <tr>\n      <th>25%</th>\n      <td>3.000000</td>\n    </tr>\n    <tr>\n      <th>50%</th>\n      <td>4.000000</td>\n    </tr>\n    <tr>\n      <th>75%</th>\n      <td>5.000000</td>\n    </tr>\n    <tr>\n      <th>max</th>\n      <td>5.000000</td>\n    </tr>\n  </tbody>\n</table>\n</div>"
     },
     "execution_count": 4,
     "metadata": {},
     "output_type": "execute_result"
    }
   ],
   "source": [
    "# Look at rating stats\n",
    "tripAdvisor_df.describe()"
   ],
   "metadata": {
    "collapsed": false,
    "ExecuteTime": {
     "end_time": "2023-11-03T12:52:54.361957095Z",
     "start_time": "2023-11-03T12:52:54.318332644Z"
    }
   },
   "id": "ca58df8f8d1ae1fe"
  },
  {
   "cell_type": "code",
   "execution_count": 5,
   "outputs": [
    {
     "name": "stdout",
     "output_type": "stream",
     "text": [
      "Review    0\n",
      "Rating    0\n",
      "dtype: int64\n"
     ]
    }
   ],
   "source": [
    "# Check for nulls\n",
    "nulls_count = tripAdvisor_df.isnull().sum()\n",
    "print(nulls_count)"
   ],
   "metadata": {
    "collapsed": false,
    "ExecuteTime": {
     "end_time": "2023-11-03T12:54:12.271963288Z",
     "start_time": "2023-11-03T12:54:12.253287881Z"
    }
   },
   "id": "2560e624754cdd3"
  },
  {
   "cell_type": "code",
   "execution_count": 7,
   "outputs": [
    {
     "data": {
      "text/plain": "<Figure size 640x480 with 1 Axes>",
      "image/png": "[encoded data removed]"
     },
     "metadata": {},
     "output_type": "display_data"
    }
   ],
   "source": [
    "# Look at distribution\n",
    "tripAdvisor_df['Rating'].hist()\n",
    "plt.show()"
   ],
   "metadata": {
    "collapsed": false,
    "ExecuteTime": {
     "end_time": "2023-11-03T12:57:30.184763371Z",
     "start_time": "2023-11-03T12:57:29.929288436Z"
    }
   },
   "id": "4efe50796840d9a2"
  },
  {
   "cell_type": "code",
   "execution_count": 8,
   "outputs": [
    {
     "name": "stdout",
     "output_type": "stream",
     "text": [
      "[4 2 3 5 1]\n"
     ]
    }
   ],
   "source": [
    "# Check all values are correct\n",
    "print(tripAdvisor_df['Rating'].unique())"
   ],
   "metadata": {
    "collapsed": false,
    "ExecuteTime": {
     "end_time": "2023-11-03T12:58:39.034402815Z",
     "start_time": "2023-11-03T12:58:38.985460359Z"
    }
   },
   "id": "5f11f77471ffe219"
  },
  {
   "cell_type": "code",
   "execution_count": 9,
   "outputs": [
    {
     "data": {
      "text/plain": "Review    object\nRating     int64\ndtype: object"
     },
     "execution_count": 9,
     "metadata": {},
     "output_type": "execute_result"
    }
   ],
   "source": [
    "# Check data types\n",
    "tripAdvisor_df.dtypes"
   ],
   "metadata": {
    "collapsed": false,
    "ExecuteTime": {
     "end_time": "2023-11-03T12:59:09.224703080Z",
     "start_time": "2023-11-03T12:59:09.176149174Z"
    }
   },
   "id": "3f7159edfcea1eb"
  },
  {
   "cell_type": "code",
   "execution_count": null,
   "outputs": [],
   "source": [],
   "metadata": {
    "collapsed": false
   },
   "id": "2dc45a8dcdf14fc2"
  }
 ],
 "metadata": {
  "kernelspec": {
   "display_name": "Python 3",
   "language": "python",
   "name": "python3"
  },
  "language_info": {
   "codemirror_mode": {
    "name": "ipython",
    "version": 2
   },
   "file_extension": ".py",
   "mimetype": "text/x-python",
   "name": "python",
   "nbconvert_exporter": "python",
   "pygments_lexer": "ipython2",
   "version": "2.7.6"
  }
 },
 "nbformat": 4,
 "nbformat_minor": 5
}
